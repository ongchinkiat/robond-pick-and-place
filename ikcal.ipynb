{
 "cells": [
  {
   "cell_type": "markdown",
   "metadata": {},
   "source": [
    "## Inverse Kinematics Calculation Notebook\n",
    "\n",
    "First, import all library modules."
   ]
  },
  {
   "cell_type": "code",
   "execution_count": 6,
   "metadata": {
    "collapsed": true
   },
   "outputs": [],
   "source": [
    "# import modules\n",
    "import tf\n",
    "import transformations\n",
    "import numpy as np\n",
    "#from trajectory_msgs.msg import JointTrajectory, JointTrajectoryPoint\n",
    "#from geometry_msgs.msg import Pose\n",
    "from mpmath import *\n",
    "from sympy import *\n",
    "import pickle\n",
    "import math\n"
   ]
  },
  {
   "cell_type": "markdown",
   "metadata": {},
   "source": [
    "### DH Parameters\n",
    "\n",
    "Define DH Parameters for Kuka arm"
   ]
  },
  {
   "cell_type": "code",
   "execution_count": 7,
   "metadata": {
    "collapsed": true
   },
   "outputs": [],
   "source": [
    "q1, q2, q3, q4, q5, q6, q7 = symbols('q1:8')\n",
    "d1, d2, d3, d4, d5, d6, d7 = symbols('d1:8')\n",
    "a0, a1, a2, a3, a4, a5, a6 = symbols('a0:7')\n",
    "alpha0, alpha1, alpha2, alpha3, alpha4, alpha5, alpha6 = symbols('alpha0:7')\n",
    "\n",
    "s = {alpha0:        0,  a0:      0, d1: 0.75, \n",
    "                 alpha1: -np.pi/2,  a1:   0.35, d2:    0, q2: q2-np.pi/2,\n",
    "                 alpha2:        0,  a2:   1.25, d3:    0, \n",
    "                 alpha3: -np.pi/2,  a3: -0.054, d4:  1.5, \n",
    "                 alpha4:  np.pi/2,  a4:      0, d5:    0, \n",
    "                 alpha5: -np.pi/2,  a5:      0, d6:    0, \n",
    "                 alpha6:        0,  a6:      0, d7:0.303, q7:          0}\n"
   ]
  },
  {
   "cell_type": "markdown",
   "metadata": {},
   "source": [
    "## Generate Forward Kinematics Function\n",
    "\n",
    "Generate the Forward Kinematics Functions and save them in pickle files.\n",
    "Uncomment the last line to run the generator.\n"
   ]
  },
  {
   "cell_type": "code",
   "execution_count": 8,
   "metadata": {},
   "outputs": [],
   "source": [
    "def generate_forward():\n",
    "\n",
    "            # Modified DH params\n",
    "\n",
    "\n",
    "            \n",
    "            # Define Modified DH Transformation matrix\n",
    "            T0_1 = Matrix([[             cos(q1),            -sin(q1),            0,              a0],\n",
    "                           [ sin(q1)*cos(alpha0), cos(q1)*cos(alpha0), -sin(alpha0), -sin(alpha0)*d1],\n",
    "                           [ sin(q1)*sin(alpha0), cos(q1)*sin(alpha0),  cos(alpha0),  cos(alpha0)*d1],\n",
    "                           [                   0,                   0,            0,               1]])\n",
    "            T0_1 = T0_1.subs(s)\n",
    "\n",
    "            T1_2 = Matrix([[             cos(q2),            -sin(q2),            0,              a1],\n",
    "                           [ sin(q2)*cos(alpha1), cos(q2)*cos(alpha1), -sin(alpha1), -sin(alpha1)*d2],\n",
    "                           [ sin(q2)*sin(alpha1), cos(q2)*sin(alpha1),  cos(alpha1),  cos(alpha1)*d2],\n",
    "                           [                   0,                   0,            0,               1]])\n",
    "            T1_2 = T1_2.subs(s)\n",
    "\n",
    "            T2_3 = Matrix([[             cos(q3),            -sin(q3),            0,              a2],\n",
    "                           [ sin(q3)*cos(alpha2), cos(q3)*cos(alpha2), -sin(alpha2), -sin(alpha2)*d3],\n",
    "                           [ sin(q3)*sin(alpha2), cos(q3)*sin(alpha2),  cos(alpha2),  cos(alpha2)*d3],\n",
    "                           [                   0,                   0,            0,               1]])\n",
    "            T2_3 = T2_3.subs(s)\n",
    "\n",
    "            T3_4 = Matrix([[             cos(q4),            -sin(q4),            0,              a3],\n",
    "                           [ sin(q4)*cos(alpha3), cos(q4)*cos(alpha3), -sin(alpha3), -sin(alpha3)*d4],\n",
    "                           [ sin(q4)*sin(alpha3), cos(q4)*sin(alpha3),  cos(alpha3),  cos(alpha3)*d4],\n",
    "                           [                   0,                   0,            0,               1]])\n",
    "            T3_4 = T3_4.subs(s)\n",
    "\n",
    "            T4_5 = Matrix([[             cos(q5),            -sin(q5),            0,              a4],\n",
    "                           [ sin(q5)*cos(alpha4), cos(q5)*cos(alpha4), -sin(alpha4), -sin(alpha4)*d5],\n",
    "                           [ sin(q5)*sin(alpha4), cos(q5)*sin(alpha4),  cos(alpha4),  cos(alpha4)*d5],\n",
    "                           [                   0,                   0,            0,               1]])\n",
    "            T4_5 = T4_5.subs(s)\n",
    "\n",
    "            T5_6 = Matrix([[             cos(q6),            -sin(q6),            0,              a5],\n",
    "                           [ sin(q6)*cos(alpha5), cos(q6)*cos(alpha5), -sin(alpha5), -sin(alpha5)*d6],\n",
    "                           [ sin(q6)*sin(alpha5), cos(q6)*sin(alpha5),  cos(alpha5),  cos(alpha5)*d6],\n",
    "                           [                   0,                   0,            0,               1]])\n",
    "            T5_6 = T5_6.subs(s)\n",
    "\n",
    "            T6_7 = Matrix([[             cos(q7),            -sin(q7),            0,              a6],\n",
    "                           [ sin(q7)*cos(alpha6), cos(q7)*cos(alpha6), -sin(alpha6), -sin(alpha6)*d7],\n",
    "                           [ sin(q7)*sin(alpha6), cos(q7)*sin(alpha6),  cos(alpha6),  cos(alpha6)*d7],\n",
    "                           [                   0,                   0,            0,               1]])\n",
    "            T6_7 = T6_7.subs(s)\n",
    "\n",
    "            # Create individual transformation matrices\n",
    "            T0_2 = simplify(T0_1 * T1_2)\n",
    "            print(\"done T0_2\")\n",
    "            T0_3 = simplify(T0_2 * T2_3)\n",
    "            print(\"done T0_3\")\n",
    "            T0_4 = simplify(T0_3 * T3_4)\n",
    "            print(\"done T0_4\")\n",
    "            T0_5 = simplify(T0_4 * T4_5)\n",
    "            print(\"done T0_5\")\n",
    "            T0_6 = simplify(T0_5 * T5_6)\n",
    "            print(\"done T0_6\")\n",
    "            T0_7 = simplify(T0_6 * T6_7)\n",
    "            print(\"done T0_7\")\n",
    "            \n",
    "            # correction for URDF and DH Convention for Gripper\n",
    "            # 180 degrees on the Z axis\n",
    "            R_z = Matrix([[           cos(np.pi),         -sin(np.pi),            0,              0],\n",
    "                           [          sin(np.pi),          cos(np.pi),            0,              0],\n",
    "                           [                   0,                   0,            1,              0],\n",
    "                           [                   0,                   0,            0,              1]])\n",
    "            # 90 degrees on the Y axis\n",
    "            R_y = Matrix([[        cos(-np.pi/2),                   0,sin(-np.pi/2),              0],\n",
    "                           [                   0,                   1,            0,              0],\n",
    "                           [      -sin(-np.pi/2),                   0,cos(-np.pi/2),              0],\n",
    "                           [                   0,                   0,            0,              1]])\n",
    "            R_correction = simplify(R_z * R_y)\n",
    "\n",
    "            T_final = simplify(T0_7 * R_correction)\n",
    "\n",
    "            R0_3 = simplify(T0_1*T1_2*T2_3)[:3,:3]\n",
    "            R3_6 = simplify(T3_4*T4_5*T5_6)[:3,:3]\n",
    "            \n",
    "            pickle.dump( T0_1, open( \"T0_1.pw\", \"wb\" ) )\n",
    "            pickle.dump( T0_2, open( \"T0_2.pw\", \"wb\" ) )\n",
    "            pickle.dump( T0_3, open( \"T0_3.pw\", \"wb\" ) )\n",
    "            pickle.dump( T0_4, open( \"T0_4.pw\", \"wb\" ) )\n",
    "            pickle.dump( T0_5, open( \"T0_5.pw\", \"wb\" ) )\n",
    "            pickle.dump( T0_6, open( \"T0_6.pw\", \"wb\" ) )\n",
    "            pickle.dump( T0_7, open( \"T0_7.pw\", \"wb\" ) )\n",
    "            pickle.dump( T_final, open( \"T_final.pw\", \"wb\" ) )\n",
    "            pickle.dump( R0_3, open( \"R0_3.pw\", \"wb\" ) )\n",
    "            pickle.dump( R3_6, open( \"R3_6.pw\", \"wb\" ) )\n",
    "            \n",
    "            return None\n",
    "\n",
    "#generate_forward()"
   ]
  },
  {
   "cell_type": "markdown",
   "metadata": {},
   "source": [
    "## Load Forward Kinematics pickle files\n",
    "\n",
    "Run the previous function to generate the files if needed."
   ]
  },
  {
   "cell_type": "code",
   "execution_count": 9,
   "metadata": {
    "collapsed": true
   },
   "outputs": [],
   "source": [
    "\n",
    "T0_1 = pickle.load( open( \"T0_1.pw\", \"rb\" ) )\n",
    "T0_2 = pickle.load( open( \"T0_2.pw\", \"rb\" ) )\n",
    "T0_3 = pickle.load( open( \"T0_3.pw\", \"rb\" ) )\n",
    "T0_4 = pickle.load( open( \"T0_4.pw\", \"rb\" ) )\n",
    "T0_5 = pickle.load( open( \"T0_5.pw\", \"rb\" ) )\n",
    "T0_6 = pickle.load( open( \"T0_6.pw\", \"rb\" ) )\n",
    "T0_7 = pickle.load( open( \"T0_7.pw\", \"rb\" ) )\n",
    "T_final = pickle.load( open( \"T_final.pw\", \"rb\" ) )\n",
    "R0_3 = pickle.load( open( \"R0_3.pw\", \"rb\" ) )\n",
    "R3_6 = pickle.load( open( \"R3_6.pw\", \"rb\" ) )\n"
   ]
  },
  {
   "cell_type": "markdown",
   "metadata": {},
   "source": [
    "### Find Wrist Center WC = O5\n",
    "\n",
    "#### Rest Position\n",
    "\n",
    "At the rest position pose = (2.153, 0, 1.947, 0, 0, 0, 1)\n",
    "\n",
    "WC position is (1.850, 0, 1.947, 0, 0, 0, 1)\n",
    "\n",
    "D6 + End-effector Length l = 0.303\n",
    "\n",
    "#### Joint 5 theta5 = pi /2\n",
    "\n",
    "pose = (1.851, 0, 1.643, 0, 0.706, 0, 0.708) RPY (0, 1.567, 0)\n",
    "\n",
    "WC Position is (1.850, 0, 1.947, 0, 0706, 0, 0.708)\n",
    "\n",
    "#### Joint 5 theta5 = -pi /2\n",
    "\n",
    "pose = (1.851, 0, 2.249, 0, -0.706, 0.025, 0.708) RPY (0.07, -1.568, 0)\n",
    "\n",
    "WC Position is (1.850, 0, 1.947, 0, 0706, 0, 0.708)\n",
    "\n",
    "#### Joint 5 theta5 = 0.32\n",
    "\n",
    "pose = (2.137, 0, 1.850, 0, 0.161, 0.0, 0.987) RPY (0.0, 0.323, 0)\n",
    "\n",
    "WC Position is (1.850, 0, 1.947, 0, 0.161, 0, 0.987)\n",
    "\n",
    "#### thata1 = 0.8, thata2 = 0.4, \n",
    "\n",
    "pose = (1.728, 1.772, 1.157, -0.076, 0.181, 0.381, 0.903) RPY (0.0, 0.396, 0.798)\n",
    "\n",
    "WC Position is (1.533, 1.572, 1.274, -0.076, 0.181, 0.381, 0.903)\n",
    "\n",
    "\n",
    "\n",
    "#### thata1 = -0.4, thata2 = -0.4, \n",
    "\n",
    "pose = (1.396, -0.598, 2.571, -0.041, -0.202, -0.197, 0.959) RPY (0.0, 0.415, -0.405)\n",
    "\n",
    "WC Position is (1.141, -0.489, 2.449, -0.041, -0.202, -0.197, 0.959)\n",
    "\n",
    "\n",
    "\n",
    "#### thata3 = -0.91\n",
    "\n",
    "pose = (1.499, 0.0, 3.39, 0.0, -0.439, 0, 0.898)\n",
    "\n",
    "WC Position is (1.313, 0.0, 3.151, 0.0, -0.439, 0, 0.898)\n",
    "\n"
   ]
  },
  {
   "cell_type": "code",
   "execution_count": 10,
   "metadata": {},
   "outputs": [
    {
     "data": {
      "text/plain": [
       "(Matrix([\n",
       " [    1.31289120580508],\n",
       " [3.71067980141648e-17],\n",
       " [    3.15089224871763]]), Matrix([\n",
       " [  -0.789134492681096, -7.52203099353079e-17,     0.614220442887527],\n",
       " [7.49879891330929e-33,                  -1.0, -1.22464679914735e-16],\n",
       " [   0.614220442887527, -9.66411030558674e-17,     0.789134492681096]]))"
      ]
     },
     "execution_count": 10,
     "metadata": {},
     "output_type": "execute_result"
    }
   ],
   "source": [
    "# (pose[4], pose[5], pose[6]) is the unit vector for the direction\n",
    "\n",
    "def cal_wc(pose):\n",
    "    px = pose[0]\n",
    "    py = pose[1]\n",
    "    pz = pose[2]\n",
    "    (roll, pitch, yaw) = transformations.euler_from_quaternion([pose[3],pose[4], pose[5], pose[6]], 'sxyz')\n",
    "    #print(roll, pitch, yaw)\n",
    "    L = 0.303\n",
    "    \n",
    "    Rrpy_urdf = transformations.euler_matrix(roll,pitch,yaw,'sxyz')\n",
    "    \n",
    "    R_z = Matrix([[           cos(np.pi),         -sin(np.pi),            0,              0],\n",
    "                           [          sin(np.pi),          cos(np.pi),            0,              0],\n",
    "                           [                   0,                   0,            1,              0],\n",
    "                           [                   0,                   0,            0,              1]])\n",
    "    # 90 degrees on the Y axis\n",
    "    R_y = Matrix([[        cos(-np.pi/2),                   0,sin(-np.pi/2),              0],\n",
    "                           [                   0,                   1,            0,              0],\n",
    "                           [      -sin(-np.pi/2),                   0,cos(-np.pi/2),              0],\n",
    "                           [                   0,                   0,            0,              1]])\n",
    "    R_correction = R_z * R_y\n",
    "\n",
    "    Rrpy_4 = N(Rrpy_urdf * R_correction)\n",
    "    #print(t06r)\n",
    "\n",
    "    Rrpy = Rrpy_4[:3,:3]\n",
    "    #print(t06r_3)\n",
    "    \n",
    "    EE = Matrix([[px],[py],[pz]])\n",
    "    \n",
    "    #print(r06corr_3*Matrix([[1],[0],[0]]))\n",
    "    \n",
    "    WC = EE - L * (Rrpy*Matrix([[0],[0],[1]]))\n",
    "    \n",
    "    #print(\"WCx = \", WC[0])\n",
    "    \n",
    "    return WC, Rrpy\n",
    "    \n",
    "#pose = (2.153, 0, 1.947, 0, 0, 0, 1)\n",
    "#pose =  (1.851, 0, 1.643, 0, 0.706, 0, 0.708)\n",
    "#pose = (1.851, 0, 2.249, 0, -0.706, 0.025, 0.708)\n",
    "#pose = (2.137, 0, 1.850, 0, 0.161, 0.0, 0.987)\n",
    "#pose = (0.904, 1.744, 0.487, -0.281, 0.462, 0.437, 0.719)\n",
    "#pose = (1.728, 1.772, 1.157, -0.076, 0.181, 0.381, 0.903)\n",
    "pose = (1.425, -0.611, 2.551, -0.040, -0.193, -0.197, 0.960)\n",
    "pose = (1.499, 0.0, 3.39, 0.0, -0.439, 0, 0.898)\n",
    "\n",
    "cal_wc(pose)"
   ]
  },
  {
   "cell_type": "markdown",
   "metadata": {},
   "source": [
    "## Find the angles of the first 3 joints base on WC location\n",
    "\n"
   ]
  },
  {
   "cell_type": "code",
   "execution_count": 11,
   "metadata": {},
   "outputs": [
    {
     "data": {
      "text/plain": [
       "(-0.40447839234418426, -0.397272915568273, -0.00261472718263545)"
      ]
     },
     "execution_count": 11,
     "metadata": {},
     "output_type": "execute_result"
    }
   ],
   "source": [
    "# calculate to WC = Orig5\n",
    "def ik_cal_to_wc(WC):\n",
    "            px = WC[0]\n",
    "            py = WC[1]\n",
    "            pz = WC[2]\n",
    "            \n",
    "            # Find theta1 base on end-effector position project to ground plane (pz = 0)\n",
    "            # joint1 limit: -185 degree to 185 degree\n",
    "            theta1 = math.atan2(py, px)\n",
    "\n",
    "            # joint2 limit: -45 degree to 85 degree\n",
    "            #               -0.78 to 1.48\n",
    "            j2_lower_rad = np.deg2rad(-45.0)\n",
    "            j2_upper_rad = np.deg2rad(85.0)\n",
    "\n",
    "            # joint3 limit: -210 degree to 155-90 = 65 degree\n",
    "            #               -3.66 to 1.13\n",
    "            j3_lower_rad = np.deg2rad(-210.0)\n",
    "            j3_upper_rad = np.deg2rad(65.0)\n",
    "\n",
    "            # distance from Orig2 to P\n",
    "            orig2z = 0.75  # d1\n",
    "            orig2x = 0.35 * cos(theta1)  # a1\n",
    "            orig2y = 0.35 * sin(theta1)\n",
    "\n",
    "            O2P = sqrt( np.square(px - orig2x) + np.square(py - orig2y) + np.square(pz - orig2z))\n",
    "\n",
    "            O2Pz = orig2z - pz\n",
    "\n",
    "            # distance from Orig3 to Orig5 is fixed\n",
    "            # a1 = 0.35, d4 = 1.5 => 1.85\n",
    "            O3P = sqrt( np.square(1.85 - 0.35) + np.square(1.946 - 2.0) )\n",
    "\n",
    "            # angle g1 is the angle drop below X-Y plane from O2\n",
    "            g1 = asin(O2Pz / O2P)\n",
    "            #print(\"g1 = \",g1)\n",
    "\n",
    "            # a2 = 1.25\n",
    "            f1 = acos( (np.square(1.25) + np.square(O2P) - np.square(O3P)) / (2 * 1.25 * O2P))\n",
    "\n",
    "            theta2 = np.pi/2 + g1 - f1\n",
    "\n",
    "            # a2 = 1.25\n",
    "            orig3z = orig2z + (1.25 * cos(theta2))\n",
    "\n",
    "            # need to offset by a3 = -0.054\n",
    "            s = orig3z - 0.054 - pz\n",
    "\n",
    "            #theta3 = atan2(s, O3P)\n",
    "            theta3 = asin(s / O3P) - theta2\n",
    "\n",
    "            #print(\"theta1 = \",theta1)\n",
    "            #print(\"theta2 = \",theta2)\n",
    "            #print(\"theta3 = \",theta3)\n",
    "\n",
    "            return theta1, theta2, theta3\n",
    "\n",
    "#ik_cal_to_wc(1.850, 0, 1.947)\n",
    "ik_cal_to_wc([1.313, 0.0, 3.151])\n",
    "ik_cal_to_wc([1.168, -0.500, 2.433])\n",
    "\n",
    "#print(R3_6)"
   ]
  },
  {
   "cell_type": "markdown",
   "metadata": {},
   "source": [
    "## SImplified Symbol Equation of R3_6\n",
    "\n",
    "\n",
    "R3_6 = \n",
    "\n",
    "([[-sin(q4)*sin(q6) + cos(q4)*cos(q5)*cos(q6), -sin(q4)*cos(q6) - sin(q6)*cos(q4)*cos(q5), -sin(q5)*cos(q4)],\n",
    "\n",
    "  [                           sin(q5)*cos(q6),                           -sin(q5)*sin(q6),          cos(q5)],\n",
    "  \n",
    "  [-sin(q4)*cos(q5)*cos(q6) - sin(q6)*cos(q4),  sin(q4)*sin(q6)*cos(q5) - cos(q4)*cos(q6),  sin(q4)*sin(q5)]])\n",
    "  "
   ]
  },
  {
   "cell_type": "markdown",
   "metadata": {},
   "source": [
    "## Function to calculate R0_3 and Final Pose using Forward Kinematics\n"
   ]
  },
  {
   "cell_type": "code",
   "execution_count": 12,
   "metadata": {
    "collapsed": true
   },
   "outputs": [],
   "source": [
    "def forward_kinematics_R03_inv(cq1, cq2, cq3, cq4, cq5, cq6):\n",
    "            Till3 = T0_3.evalf(subs={q1: cq1, q2: cq2, q3: cq3, q4: cq4, q5: cq5, q6: cq6})\n",
    "            R0_3 = Till3[0:3,0:3]\n",
    "            Inv_R0_3 = R0_3.pinv()\n",
    "\n",
    "            return Inv_R0_3\n",
    "\n",
    "# if run transformations.quaternion_from_matrix(final) directly, we'll get\n",
    "# TypeError: __array__() takes 1 positional argument but 2 were given\n",
    "def quad_from_matrix(M):\n",
    "            f = np.zeros((4,4))\n",
    "            f[0,0] = M[0,0]\n",
    "            f[0,1] = M[0,1]\n",
    "            f[0,2] = M[0,2]\n",
    "            f[1,0] = M[1,0]\n",
    "            f[1,1] = M[1,1]\n",
    "            f[1,2] = M[1,2]\n",
    "            f[2,0] = M[2,0]\n",
    "            f[2,1] = M[2,1]\n",
    "            f[2,2] = M[2,2]\n",
    "            f[3,3] = 1\n",
    "\n",
    "            quad_final = transformations.quaternion_from_matrix(f)\n",
    "            return quad_final\n",
    "\n",
    "def forward_kinematics(Thetas):\n",
    "            cq1 = Thetas[0]\n",
    "            cq2 = Thetas[1]\n",
    "            cq3 = Thetas[2]\n",
    "            cq4 = Thetas[3]\n",
    "            cq5 = Thetas[4]\n",
    "            cq6 = Thetas[5]\n",
    "            final = T_final.evalf(subs={q1: cq1, q2: cq2, q3: cq3, q4: cq4, q5: cq5, q6: cq6})\n",
    "\n",
    "            #print(\"Final link\")\n",
    "            quad = quad_from_matrix(final)\n",
    "\n",
    "            fpose = (final[0,3], final[1,3], final[2,3], quad[0], quad[1], quad[2], quad[3])\n",
    "            return fpose\n"
   ]
  },
  {
   "cell_type": "markdown",
   "metadata": {},
   "source": [
    "## Inverse Kinematics Function to calculate all joint angles\n",
    "\n",
    "This is the main function that given an input pose, returns a list of all 6 angles for the joints."
   ]
  },
  {
   "cell_type": "code",
   "execution_count": 13,
   "metadata": {},
   "outputs": [],
   "source": [
    "# thata1 = -0.4, thata2 = -0.4,\n",
    "# RPY (0.0, 0.415, -0.405)\n",
    "\n",
    "def cal_all_angles(pose):\n",
    "    WC, Rrpy = cal_wc(pose)\n",
    "\n",
    "    theta1, theta2, theta3 = ik_cal_to_wc(WC)\n",
    "\n",
    "    R03_inv = forward_kinematics_R03_inv(theta1, theta2, theta3, 0, 0, 0)\n",
    "    R36 = R03_inv * Rrpy\n",
    "\n",
    "    # cos(theta5) = R36[2,1]\n",
    "    # sin(theta5) * cos(theta6) = R36[1,0]\n",
    "    # -sin(theta5) * cos(theta4) = R36[0,2]\n",
    "    #theta5 = acos(round(R36[1,2],2))\n",
    "    theta5 = acos(R36[1,2])\n",
    "    if abs(theta5) < 0.01:\n",
    "        theta6 = 0\n",
    "        theta4 = acos(-R36[2,1])\n",
    "    else:\n",
    "        theta6 = acos(R36[1,0] / sin(theta5))\n",
    "        theta4 = acos(-(R36[0,2] / sin(theta5)))\n",
    "\n",
    "    Thetas = (theta1, theta2, theta3, theta4, theta5, theta6)\n",
    "    return Thetas\n",
    "\n"
   ]
  },
  {
   "cell_type": "markdown",
   "metadata": {},
   "source": [
    "## Test using a few sample pose\n",
    "\n",
    "Test the function with a sample pose, and see the result and error."
   ]
  },
  {
   "cell_type": "code",
   "execution_count": 14,
   "metadata": {},
   "outputs": [
    {
     "name": "stdout",
     "output_type": "stream",
     "text": [
      "(0.553682523378719, 0.677957817040109, 2.49021997061804, 0.42847163341177869, 0.41449009383127317, 0.80196052746224877, -0.038331891026354509)\n",
      "(0.6692565182937807, -0.688659682851807, 0.272319795234066, 2.47138724746555, 1.56517051099893, 0.184727357051625)\n",
      "Error: 0.00486149809409101\n"
     ]
    }
   ],
   "source": [
    "pose = (1.396, -0.598, 2.571, -0.041, -0.202, -0.197, 0.959) \n",
    "pose = (0.555, 0.679, 2.486, 0.428, 0.260, 0.864, 0.041) \n",
    "Thetas = cal_all_angles(pose)\n",
    "fpose = forward_kinematics(Thetas)\n",
    "print(fpose)\n",
    "print(Thetas)\n",
    "mse = ((np.array(fpose) - np.array(pose)) ** 2).mean()\n",
    "print(\"Error:\",mse)"
   ]
  }
 ],
 "metadata": {
  "kernelspec": {
   "display_name": "Python 3",
   "language": "python",
   "name": "python3"
  },
  "language_info": {
   "codemirror_mode": {
    "name": "ipython",
    "version": 3
   },
   "file_extension": ".py",
   "mimetype": "text/x-python",
   "name": "python",
   "nbconvert_exporter": "python",
   "pygments_lexer": "ipython3",
   "version": "3.5.2"
  },
  "widgets": {
   "state": {},
   "version": "1.1.2"
  }
 },
 "nbformat": 4,
 "nbformat_minor": 2
}
